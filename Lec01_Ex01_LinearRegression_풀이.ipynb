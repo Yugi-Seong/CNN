{
  "nbformat": 4,
  "nbformat_minor": 0,
  "metadata": {
    "colab": {
      "name": "Lec01_Ex01_LinearRegression_풀이.ipynb",
      "provenance": [],
      "collapsed_sections": [],
      "include_colab_link": true
    },
    "kernelspec": {
      "name": "python3",
      "display_name": "Python 3"
    }
  },
  "cells": [
    {
      "cell_type": "markdown",
      "metadata": {
        "id": "view-in-github",
        "colab_type": "text"
      },
      "source": [
        "<a href=\"https://colab.research.google.com/github/Yugi-Seong/CNN/blob/main/Lec01_Ex01_LinearRegression_%ED%92%80%EC%9D%B4.ipynb\" target=\"_parent\"><img src=\"https://colab.research.google.com/assets/colab-badge.svg\" alt=\"Open In Colab\"/></a>"
      ]
    },
    {
      "cell_type": "code",
      "metadata": {
        "id": "MPYPTlOubhVd"
      },
      "source": [
        "## Codes are adapted from \"https://github.com/yunjey/pytorch-tutorial\""
      ],
      "execution_count": null,
      "outputs": []
    },
    {
      "cell_type": "markdown",
      "metadata": {
        "id": "8iOZBddV3Rvc"
      },
      "source": [
        "# 새 섹션"
      ]
    },
    {
      "cell_type": "code",
      "metadata": {
        "id": "yctK-Vh434wj"
      },
      "source": [
        "from google.colab import drive\n",
        "drive.mount('/content/drive')"
      ],
      "execution_count": null,
      "outputs": []
    },
    {
      "cell_type": "code",
      "metadata": {
        "id": "RenkHyXEbnMe",
        "colab": {
          "base_uri": "https://localhost:8080/"
        },
        "outputId": "f3479f7e-0c5a-4de7-e057-8da38ca8055c"
      },
      "source": [
        "cd '/content/drive/MyDrive/ColabNotebooks/Lecture/Pytorch/Codes' "
      ],
      "execution_count": null,
      "outputs": [
        {
          "output_type": "stream",
          "text": [
            "Mounted at /content/drive\n"
          ],
          "name": "stdout"
        }
      ]
    },
    {
      "cell_type": "code",
      "metadata": {
        "id": "c7mzN-R9minb",
        "colab": {
          "base_uri": "https://localhost:8080/"
        },
        "outputId": "b068e5be-4c51-4ada-d7da-8dbfb23a19ec"
      },
      "source": [
        "import numpy as np\n",
        "import matplotlib.pyplot as plt\n",
        "import torch\n",
        "import torch.nn as nn\n",
        "\n",
        "# torch version\n",
        "print(torch.__version__)"
      ],
      "execution_count": 9,
      "outputs": [
        {
          "output_type": "stream",
          "text": [
            "1.8.1+cu101\n"
          ],
          "name": "stdout"
        }
      ]
    },
    {
      "cell_type": "code",
      "metadata": {
        "id": "7Gbj2765mjBa",
        "colab": {
          "base_uri": "https://localhost:8080/"
        },
        "outputId": "8cf03a3b-840e-45f3-bcb8-42950c1282e3"
      },
      "source": [
        "# Hyper-parameters\n",
        "print(\"==== 1.Hyper-parameters setting ====\") # trainning 도중에 변하지 않는 값\n",
        "input_size = 1\n",
        "output_size = 1\n",
        "num_epochs = 600\n",
        "learning_rate = 0.001"
      ],
      "execution_count": null,
      "outputs": [
        {
          "output_type": "stream",
          "text": [
            "==== 1.Hyper-parameters setting ====\n"
          ],
          "name": "stdout"
        }
      ]
    },
    {
      "cell_type": "code",
      "metadata": {
        "id": "gYtz_W5fmjEJ",
        "colab": {
          "base_uri": "https://localhost:8080/"
        },
        "outputId": "f9913f27-6a4a-4118-aff7-5b999acfd787"
      },
      "source": [
        "# Toy dataset\n",
        "print(\"==== 2. Toy dataset ====\")\n",
        "x_train = np.array([[3.3], [4.4], [5.5], [6.71], [6.93], [4.168], \n",
        "                    [9.779], [6.182], [7.59], [2.167], [7.042], \n",
        "                    [10.791], [5.313], [7.997], [3.1]], dtype=np.float32)\n",
        "\n",
        "y_train = np.array([[1.7], [2.76], [2.09], [3.19], [1.694], [1.573], \n",
        "                    [3.366], [2.596], [2.53], [1.221], [2.827], \n",
        "                    [3.465], [1.65], [2.904], [1.3]], dtype=np.float32)"
      ],
      "execution_count": 10,
      "outputs": [
        {
          "output_type": "stream",
          "text": [
            "==== 2. Toy dataset ====\n"
          ],
          "name": "stdout"
        }
      ]
    },
    {
      "cell_type": "code",
      "metadata": {
        "id": "zPkkdeDzmjHS",
        "colab": {
          "base_uri": "https://localhost:8080/"
        },
        "outputId": "540f981c-1a56-4433-d467-46075c216ff8"
      },
      "source": [
        "# Linear regression model\n",
        "print(\"==== 3. Linear regression model ====\")\n",
        "model = nn.Linear(input_size, output_size) \n"
      ],
      "execution_count": null,
      "outputs": [
        {
          "output_type": "stream",
          "text": [
            "==== 3. Linear regression model ====\n"
          ],
          "name": "stdout"
        }
      ]
    },
    {
      "cell_type": "code",
      "metadata": {
        "id": "jyIq0tZCmjKT",
        "colab": {
          "base_uri": "https://localhost:8080/"
        },
        "outputId": "69d3496e-ffc3-4de6-8f75-911400502f55"
      },
      "source": [
        "# Loss and optimizer\n",
        "print(\"==== 4. Loss and optimizer ====\")\n",
        "criterion = nn.MSELoss()\n",
        "optimizer = torch.optim.SGD(model.parameters(), lr=learning_rate)  \n"
      ],
      "execution_count": null,
      "outputs": [
        {
          "output_type": "stream",
          "text": [
            "==== 4. Loss and optimizer ====\n"
          ],
          "name": "stdout"
        }
      ]
    },
    {
      "cell_type": "code",
      "metadata": {
        "id": "5im4u2Y_mjNK",
        "colab": {
          "base_uri": "https://localhost:8080/"
        },
        "outputId": "b495a31d-1575-4f43-b735-7e8e5817e310"
      },
      "source": [
        "# Train the model\n",
        "print(\"==== 5. Train the model ====\")\n",
        "for epoch in range(num_epochs):\n",
        "    \n",
        "    # Convert numpy arrays to torch tensors\n",
        "    inputs = torch.from_numpy(x_train) # 자료형 numpy -> tensor 형태로 변경\n",
        "    targets = torch.from_numpy(y_train)\n",
        "\n",
        "    # Forward pass\n",
        "    outputs = model(inputs)\n",
        "    loss = criterion(outputs, targets) #정답과 output과 비교하여 loss 출력 \n",
        "    \n",
        "    # Backward and optimize\n",
        "    optimizer.zero_grad()\n",
        "    loss.backward()\n",
        "    optimizer.step()\n",
        "    \n",
        "    if (epoch+1) % 5 == 0:\n",
        "        print ('Epoch [{}/{}], Loss: {:.4f}'.format(epoch+1, num_epochs, loss.item())) # loss값이 scala일경우 loss.item() 함수이용 # loss.data[0]\n"
      ],
      "execution_count": 15,
      "outputs": [
        {
          "output_type": "stream",
          "text": [
            "==== 5. Train the model ====\n",
            "Epoch [5/600], Loss: 0.2657\n",
            "Epoch [10/600], Loss: 0.2654\n",
            "Epoch [15/600], Loss: 0.2652\n",
            "Epoch [20/600], Loss: 0.2649\n",
            "Epoch [25/600], Loss: 0.2647\n",
            "Epoch [30/600], Loss: 0.2644\n",
            "Epoch [35/600], Loss: 0.2642\n",
            "Epoch [40/600], Loss: 0.2639\n",
            "Epoch [45/600], Loss: 0.2637\n",
            "Epoch [50/600], Loss: 0.2635\n",
            "Epoch [55/600], Loss: 0.2632\n",
            "Epoch [60/600], Loss: 0.2630\n",
            "Epoch [65/600], Loss: 0.2627\n",
            "Epoch [70/600], Loss: 0.2625\n",
            "Epoch [75/600], Loss: 0.2623\n",
            "Epoch [80/600], Loss: 0.2620\n",
            "Epoch [85/600], Loss: 0.2618\n",
            "Epoch [90/600], Loss: 0.2615\n",
            "Epoch [95/600], Loss: 0.2613\n",
            "Epoch [100/600], Loss: 0.2611\n",
            "Epoch [105/600], Loss: 0.2608\n",
            "Epoch [110/600], Loss: 0.2606\n",
            "Epoch [115/600], Loss: 0.2604\n",
            "Epoch [120/600], Loss: 0.2601\n",
            "Epoch [125/600], Loss: 0.2599\n",
            "Epoch [130/600], Loss: 0.2597\n",
            "Epoch [135/600], Loss: 0.2594\n",
            "Epoch [140/600], Loss: 0.2592\n",
            "Epoch [145/600], Loss: 0.2590\n",
            "Epoch [150/600], Loss: 0.2587\n",
            "Epoch [155/600], Loss: 0.2585\n",
            "Epoch [160/600], Loss: 0.2583\n",
            "Epoch [165/600], Loss: 0.2580\n",
            "Epoch [170/600], Loss: 0.2578\n",
            "Epoch [175/600], Loss: 0.2576\n",
            "Epoch [180/600], Loss: 0.2574\n",
            "Epoch [185/600], Loss: 0.2571\n",
            "Epoch [190/600], Loss: 0.2569\n",
            "Epoch [195/600], Loss: 0.2567\n",
            "Epoch [200/600], Loss: 0.2564\n",
            "Epoch [205/600], Loss: 0.2562\n",
            "Epoch [210/600], Loss: 0.2560\n",
            "Epoch [215/600], Loss: 0.2558\n",
            "Epoch [220/600], Loss: 0.2556\n",
            "Epoch [225/600], Loss: 0.2553\n",
            "Epoch [230/600], Loss: 0.2551\n",
            "Epoch [235/600], Loss: 0.2549\n",
            "Epoch [240/600], Loss: 0.2547\n",
            "Epoch [245/600], Loss: 0.2544\n",
            "Epoch [250/600], Loss: 0.2542\n",
            "Epoch [255/600], Loss: 0.2540\n",
            "Epoch [260/600], Loss: 0.2538\n",
            "Epoch [265/600], Loss: 0.2536\n",
            "Epoch [270/600], Loss: 0.2534\n",
            "Epoch [275/600], Loss: 0.2531\n",
            "Epoch [280/600], Loss: 0.2529\n",
            "Epoch [285/600], Loss: 0.2527\n",
            "Epoch [290/600], Loss: 0.2525\n",
            "Epoch [295/600], Loss: 0.2523\n",
            "Epoch [300/600], Loss: 0.2521\n",
            "Epoch [305/600], Loss: 0.2519\n",
            "Epoch [310/600], Loss: 0.2516\n",
            "Epoch [315/600], Loss: 0.2514\n",
            "Epoch [320/600], Loss: 0.2512\n",
            "Epoch [325/600], Loss: 0.2510\n",
            "Epoch [330/600], Loss: 0.2508\n",
            "Epoch [335/600], Loss: 0.2506\n",
            "Epoch [340/600], Loss: 0.2504\n",
            "Epoch [345/600], Loss: 0.2502\n",
            "Epoch [350/600], Loss: 0.2500\n",
            "Epoch [355/600], Loss: 0.2497\n",
            "Epoch [360/600], Loss: 0.2495\n",
            "Epoch [365/600], Loss: 0.2493\n",
            "Epoch [370/600], Loss: 0.2491\n",
            "Epoch [375/600], Loss: 0.2489\n",
            "Epoch [380/600], Loss: 0.2487\n",
            "Epoch [385/600], Loss: 0.2485\n",
            "Epoch [390/600], Loss: 0.2483\n",
            "Epoch [395/600], Loss: 0.2481\n",
            "Epoch [400/600], Loss: 0.2479\n",
            "Epoch [405/600], Loss: 0.2477\n",
            "Epoch [410/600], Loss: 0.2475\n",
            "Epoch [415/600], Loss: 0.2473\n",
            "Epoch [420/600], Loss: 0.2471\n",
            "Epoch [425/600], Loss: 0.2469\n",
            "Epoch [430/600], Loss: 0.2467\n",
            "Epoch [435/600], Loss: 0.2465\n",
            "Epoch [440/600], Loss: 0.2463\n",
            "Epoch [445/600], Loss: 0.2461\n",
            "Epoch [450/600], Loss: 0.2459\n",
            "Epoch [455/600], Loss: 0.2457\n",
            "Epoch [460/600], Loss: 0.2455\n",
            "Epoch [465/600], Loss: 0.2453\n",
            "Epoch [470/600], Loss: 0.2451\n",
            "Epoch [475/600], Loss: 0.2449\n",
            "Epoch [480/600], Loss: 0.2447\n",
            "Epoch [485/600], Loss: 0.2445\n",
            "Epoch [490/600], Loss: 0.2443\n",
            "Epoch [495/600], Loss: 0.2441\n",
            "Epoch [500/600], Loss: 0.2439\n",
            "Epoch [505/600], Loss: 0.2438\n",
            "Epoch [510/600], Loss: 0.2436\n",
            "Epoch [515/600], Loss: 0.2434\n",
            "Epoch [520/600], Loss: 0.2432\n",
            "Epoch [525/600], Loss: 0.2430\n",
            "Epoch [530/600], Loss: 0.2428\n",
            "Epoch [535/600], Loss: 0.2426\n",
            "Epoch [540/600], Loss: 0.2424\n",
            "Epoch [545/600], Loss: 0.2422\n",
            "Epoch [550/600], Loss: 0.2420\n",
            "Epoch [555/600], Loss: 0.2419\n",
            "Epoch [560/600], Loss: 0.2417\n",
            "Epoch [565/600], Loss: 0.2415\n",
            "Epoch [570/600], Loss: 0.2413\n",
            "Epoch [575/600], Loss: 0.2411\n",
            "Epoch [580/600], Loss: 0.2409\n",
            "Epoch [585/600], Loss: 0.2407\n",
            "Epoch [590/600], Loss: 0.2406\n",
            "Epoch [595/600], Loss: 0.2404\n",
            "Epoch [600/600], Loss: 0.2402\n"
          ],
          "name": "stdout"
        }
      ]
    },
    {
      "cell_type": "code",
      "metadata": {
        "id": "h-ZmpATgmjPy",
        "colab": {
          "base_uri": "https://localhost:8080/",
          "height": 283
        },
        "outputId": "8aa71771-4f04-4095-a2c2-4b277495685f"
      },
      "source": [
        "#Plot the graph\n",
        "print(\"==== 6. Plot the graph ====\")\n",
        "predicted = model(torch.from_numpy(x_train)).detach().numpy()\n",
        "plt.plot(x_train, y_train, 'ro', label='Original data')\n",
        "plt.plot(x_train, predicted, label='Fitted line')\n",
        "plt.legend()\n",
        "plt.show()\n"
      ],
      "execution_count": 16,
      "outputs": [
        {
          "output_type": "stream",
          "text": [
            "==== 6. Plot the graph ====\n"
          ],
          "name": "stdout"
        },
        {
          "output_type": "display_data",
          "data": {
            "image/png": "[encoded data removed]",
            "text/plain": [
              "<Figure size 432x288 with 1 Axes>"
            ]
          },
          "metadata": {
            "tags": [],
            "needs_background": "light"
          }
        }
      ]
    },
    {
      "cell_type": "code",
      "metadata": {
        "id": "Y8NLkZlymjSp",
        "colab": {
          "base_uri": "https://localhost:8080/"
        },
        "outputId": "97544125-d266-4120-fc3c-9d4cb0447886"
      },
      "source": [
        "# Save the model checkpoint\n",
        "print(\"==== 7. Save the model checkpoint ====\")\n",
        "torch.save(model.state_dict(), 'model.ckpt')\n",
        "\n",
        "print(\"==== End ====\")\n",
        "print(\"             \")"
      ],
      "execution_count": 17,
      "outputs": [
        {
          "output_type": "stream",
          "text": [
            "==== 7. Save the model checkpoint ====\n",
            "==== End ====\n",
            "             \n"
          ],
          "name": "stdout"
        }
      ]
    },
    {
      "cell_type": "code",
      "metadata": {
        "id": "fUmoyPnPnkMj"
      },
      "source": [
        ""
      ],
      "execution_count": null,
      "outputs": []
    }
  ]
}