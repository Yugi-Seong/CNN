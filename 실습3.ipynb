{
  "nbformat": 4,
  "nbformat_minor": 0,
  "metadata": {
    "colab": {
      "name": "실습3",
      "provenance": [],
      "collapsed_sections": [],
      "authorship_tag": "ABX9TyNEPto+nhnHFaFFUPozbfTA",
      "include_colab_link": true
    },
    "kernelspec": {
      "name": "python3",
      "display_name": "Python 3"
    },
    "language_info": {
      "name": "python"
    },
    "accelerator": "GPU"
  },
  "cells": [
    {
      "cell_type": "markdown",
      "metadata": {
        "id": "view-in-github",
        "colab_type": "text"
      },
      "source": [
        "<a href=\"https://colab.research.google.com/github/Yugi-Seong/CNN/blob/main/%EC%8B%A4%EC%8A%B53.ipynb\" target=\"_parent\"><img src=\"https://colab.research.google.com/assets/colab-badge.svg\" alt=\"Open In Colab\"/></a>"
      ]
    },
    {
      "cell_type": "markdown",
      "metadata": {
        "id": "kclv5tvCRu6U"
      },
      "source": [
        "CIFAR 10 dataset에 대하여 VGG-19 Classification Network 구현.ipynb"
      ]
    },
    {
      "cell_type": "code",
      "metadata": {
        "colab": {
          "base_uri": "https://localhost:8080/"
        },
        "id": "gxAl3izMaZeT",
        "outputId": "90bc9032-efc2-4f2b-a752-4e012151851a"
      },
      "source": [
        "from google.colab import drive\n",
        "drive.mount('/content/drive', force_remount=True)"
      ],
      "execution_count": null,
      "outputs": [
        {
          "output_type": "stream",
          "text": [
            "Mounted at /content/drive\n"
          ],
          "name": "stdout"
        }
      ]
    },
    {
      "cell_type": "code",
      "metadata": {
        "colab": {
          "base_uri": "https://localhost:8080/"
        },
        "id": "r69-3JtPahQC",
        "outputId": "0dc1178c-eafb-4f5b-d2b7-7b3da6c2022a"
      },
      "source": [
        "cd '/content/drive/MyDrive/CNN'"
      ],
      "execution_count": null,
      "outputs": [
        {
          "output_type": "stream",
          "text": [
            "/content/drive/MyDrive/CNN\n"
          ],
          "name": "stdout"
        }
      ]
    },
    {
      "cell_type": "markdown",
      "metadata": {
        "id": "Tv4HPJhi35nL"
      },
      "source": [
        "# 셋팅"
      ]
    },
    {
      "cell_type": "code",
      "metadata": {
        "id": "DjrIn3YqRiTj"
      },
      "source": [
        "import torch \n",
        "import torch.nn as nn\n",
        "import torchvision\n",
        "import torchvision.transforms as transforms"
      ],
      "execution_count": null,
      "outputs": []
    },
    {
      "cell_type": "code",
      "metadata": {
        "colab": {
          "base_uri": "https://localhost:8080/"
        },
        "id": "dty8EhzBVkRz",
        "outputId": "c0183576-a980-47c7-ddec-5d95c61915a0"
      },
      "source": [
        "# Device configuration\n",
        "device = torch.device('cuda:0' if torch.cuda.is_available() else 'cpu') # cuda : GPU Lib\n",
        "print(device)"
      ],
      "execution_count": null,
      "outputs": [
        {
          "output_type": "stream",
          "text": [
            "cuda:0\n"
          ],
          "name": "stdout"
        }
      ]
    },
    {
      "cell_type": "markdown",
      "metadata": {
        "id": "ooOVw_Gl31ms"
      },
      "source": [
        "hyperparameter"
      ]
    },
    {
      "cell_type": "code",
      "metadata": {
        "id": "kNJSzugda3XZ"
      },
      "source": [
        "# Hyper parameters\n",
        "num_epochs = 20\n",
        "num_classes = 10\n",
        "batch_size = 100\n",
        "learning_rate = 0.001"
      ],
      "execution_count": null,
      "outputs": []
    },
    {
      "cell_type": "markdown",
      "metadata": {
        "id": "0efz8lZT3OEt"
      },
      "source": [
        "# 데이터 준비"
      ]
    },
    {
      "cell_type": "code",
      "metadata": {
        "id": "E1dU7rw2Vu_K"
      },
      "source": [
        "# Data transform & augmentation    데이터 전처리 과정 \n",
        "\n",
        "transform_train = transforms.Compose([\n",
        "    transforms.RandomCrop(32, padding=4),\n",
        "    transforms.RandomHorizontalFlip(), # 이미지의 좌 우 변경 \n",
        "    transforms.ToTensor(),   #[0,1]값으로 변경 \n",
        "    transforms.Normalize((0.4914, 0.4822, 0.4465), (0.2023, 0.1994, 0.2010)), # 칼러 데이터 정규화를 위해 평균값을 빼줌 \n",
        "    \n",
        "])                                                                            \n",
        "\n",
        "transform_test = transforms.Compose([\n",
        "    transforms.ToTensor(),\n",
        "    transforms.Normalize((0.4914, 0.4822, 0.4465), (0.2023, 0.1994, 0.2010)),\n",
        "])"
      ],
      "execution_count": null,
      "outputs": []
    },
    {
      "cell_type": "markdown",
      "metadata": {
        "id": "2j0T8Lhr3_3E"
      },
      "source": [
        "# Data Loader"
      ]
    },
    {
      "cell_type": "code",
      "metadata": {
        "colab": {
          "base_uri": "https://localhost:8080/"
        },
        "id": "fnUBovnvbOdb",
        "outputId": "788dd972-7302-4f09-a197-8676e7053f0d"
      },
      "source": [
        "# MNIST dataset\n",
        "train_dataset = torchvision.datasets.CIFAR10(root='./data/',\n",
        "                                           train=True, \n",
        "                                           transform=transform_train,\n",
        "                                           download=True)    # data download \n",
        "\n",
        "test_dataset = torchvision.datasets.CIFAR10(root='./data/',\n",
        "                                          train=False, \n",
        "                                          transform=transform_test)\n",
        "\n",
        "# Data loader\n",
        "train_loader = torch.utils.data.DataLoader(dataset=train_dataset,\n",
        "                                           batch_size=batch_size, \n",
        "                                           shuffle=True)\n",
        "\n",
        "test_loader = torch.utils.data.DataLoader(dataset=test_dataset,\n",
        "                                          batch_size=batch_size, \n",
        "                                          shuffle=False)"
      ],
      "execution_count": null,
      "outputs": [
        {
          "output_type": "stream",
          "text": [
            "Files already downloaded and verified\n"
          ],
          "name": "stdout"
        }
      ]
    },
    {
      "cell_type": "code",
      "metadata": {
        "id": "kSSKnmZ-4K8M"
      },
      "source": [
        ""
      ],
      "execution_count": null,
      "outputs": []
    },
    {
      "cell_type": "code",
      "metadata": {
        "id": "UeeACo5nWVsy"
      },
      "source": [
        "import matplotlib.pyplot as plt \n",
        "import numpy as np \n",
        "%matplotlib inline"
      ],
      "execution_count": null,
      "outputs": []
    },
    {
      "cell_type": "code",
      "metadata": {
        "id": "Q2wTzRebWVqG"
      },
      "source": [
        "def imshow(img): \n",
        "  img = img/2 + 0.5 \n",
        "  npimg = img.numpy() \n",
        "  plt.imshow(np.transpose(npimg, (1,2,0))) \n",
        "  plt.show()\n"
      ],
      "execution_count": null,
      "outputs": []
    },
    {
      "cell_type": "code",
      "metadata": {
        "colab": {
          "base_uri": "https://localhost:8080/",
          "height": 269
        },
        "id": "jLRZ7DohWVn7",
        "outputId": "a206e015-6b2c-4932-b63d-14c1c879f6e3"
      },
      "source": [
        "dataiter = iter(test_loader) \n",
        "images, labels = dataiter.next() \n",
        "imshow(torchvision.utils.make_grid(images)) \n",
        "\n",
        "# print(' '.join('%5s' % classes[labels[j]] for j in range(4)))"
      ],
      "execution_count": null,
      "outputs": [
        {
          "output_type": "display_data",
          "data": {
            "image/png": "[encoded data removed]",
            "text/plain": [
              "<Figure size 432x288 with 1 Axes>"
            ]
          },
          "metadata": {
            "tags": [],
            "needs_background": "light"
          }
        }
      ]
    },
    {
      "cell_type": "markdown",
      "metadata": {
        "id": "VrHQbcTa4NtL"
      },
      "source": [
        "# Model"
      ]
    },
    {
      "cell_type": "code",
      "metadata": {
        "id": "UpN8wQwyWVjq"
      },
      "source": [
        "# 컨볼루션 연산이 2번 연속하는 경우\n",
        "# 컨볼루션-활성화함수-컨볼루션-활성화함수-풀링\n",
        "def conv_2_block(in_dim,out_dim): # 32 x 32\n",
        "    model = nn.Sequential(\n",
        "        nn.Conv2d(in_dim,out_dim,kernel_size=3,padding=1),  # 32 x 32 x64\n",
        "        nn.BatchNorm2d(out_dim),\n",
        "        nn.ReLU(),          \n",
        "        nn.Conv2d(out_dim,out_dim,kernel_size=3,padding=1),  # 32 x 32  x64\n",
        "        nn.BatchNorm2d(out_dim),\n",
        "        nn.ReLU(),\n",
        "        nn.MaxPool2d(2,2)  #16 x 16 x64\n",
        "    )\n",
        "    return model\n",
        "\n",
        "  \n",
        "# 컨볼루션 연산이 4번 연속하는 경우\n",
        "# 컨볼루션-활성화함수-컨볼루션-활성화함수-컨볼루션-활성화함수-컨볼루션-활성화함수-풀링\n",
        "def conv_4_block(in_dim,out_dim):\n",
        "    model = nn.Sequential(\n",
        "        nn.Conv2d(in_dim,out_dim,kernel_size=3,padding=1), \n",
        "        nn.BatchNorm2d(out_dim),\n",
        "        nn.ReLU(),\n",
        "        nn.Conv2d(out_dim,out_dim,kernel_size=3,padding=1),  \n",
        "        nn.BatchNorm2d(out_dim),\n",
        "        nn.ReLU(),\n",
        "        nn.Conv2d(out_dim,out_dim,kernel_size=3,padding=1),  \n",
        "        nn.BatchNorm2d(out_dim),\n",
        "        nn.ReLU(),\n",
        "        nn.Conv2d(out_dim,out_dim,kernel_size=3,padding=1),\n",
        "        nn.BatchNorm2d(out_dim),\n",
        "        nn.ReLU(),\n",
        "        nn.MaxPool2d(2,2)\n",
        "    )\n",
        "    return model"
      ],
      "execution_count": null,
      "outputs": []
    },
    {
      "cell_type": "markdown",
      "metadata": {
        "id": "vzXHuCLY4dC4"
      },
      "source": [
        "## VGG19 Model"
      ]
    },
    {
      "cell_type": "code",
      "metadata": {
        "id": "7rk6VYEnWVhL"
      },
      "source": [
        "# 위에서 정의한 블록들을 이용해 VGG19 네트워크를 만들어보겠습니다.\n",
        "# 필터의 개수가 2의 n승의 값을 가지기 때문에 base_dim이란 변수를 추가해서 단순화 했습니다.\n",
        "# 현재 Cifar10은 10개의 클래스를 구분하려고 하기 때문에 num_classes=10로 설정했습니다.\n",
        "\n",
        "class VGG(nn.Module):\n",
        "    def __init__(self, base_dim, num_classes=10):\n",
        "        super(VGG, self).__init__()\n",
        "        self.feature = nn.Sequential(\n",
        "            conv_2_block(3,base_dim),\n",
        "            conv_2_block(base_dim,2*base_dim),\n",
        "            conv_4_block(2*base_dim,4*base_dim),\n",
        "            conv_4_block(4*base_dim,8*base_dim),\n",
        "            conv_4_block(8*base_dim,8*base_dim), # dim = 1 ,1 ,8*64        \n",
        "        )\n",
        "        self.fc_layer = nn.Sequential(\n",
        "            nn.Linear(8*base_dim, 1000), #입력 layer 정의 \n",
        "            nn.ReLU(True),                                                      # True 는 inplace 연산을 하겠다는 의미를 가집니다. inplace 연산은 결과값을 새로운 변수에 값을 저장하는 대신 기존의 데이터를 대체하는것을 의미합니다.\n",
        "            nn.Dropout(0.2),\n",
        "            nn.Linear(1000, 500),\n",
        "            nn.ReLU(True),\n",
        "            nn.Dropout(0.2),\n",
        "            nn.Linear(500, num_classes),\n",
        "        )\n",
        "\n",
        "    def forward(self, x):  \n",
        "        x = self.feature(x)\n",
        "        x = x.view(x.size(0), -1)  #reshape                                                # x.size(0)를 batch size로 바꿔도 같은 값입니다.\n",
        "        x = self.fc_layer(x) \n",
        "        return x"
      ],
      "execution_count": null,
      "outputs": []
    },
    {
      "cell_type": "markdown",
      "metadata": {
        "id": "SmJSdc154tSS"
      },
      "source": [
        "# Optimizer & Loss"
      ]
    },
    {
      "cell_type": "code",
      "metadata": {
        "colab": {
          "base_uri": "https://localhost:8080/"
        },
        "id": "EIu0btY_WVeS",
        "outputId": "c29c12a9-10a8-45bb-df80-2ae48eaa2f08"
      },
      "source": [
        "# gpu가 사용 가능한 경우에는 device를 0번 gpu로 설정하고 불가능하면 cpu로 설정합니다.\n",
        "device = torch.device(\"cuda:0\" if torch.cuda.is_available() else \"cpu\")\n",
        "print(device)\n",
        "\n",
        "# 앞서 정의한대로 vGG 클래스를 인스턴스화 하고 지정한 장치에 올립니다.\n",
        "model = VGG(base_dim=64)\n",
        "model = model.to(device)\n",
        "\n",
        "# 손실함수 및 최적화함수를 설정합니다.\n",
        "loss_func = nn.CrossEntropyLoss()\n",
        "optimizer = torch.optim.Adam(model.parameters(), lr=learning_rate)\n",
        "\n",
        "# 모델 자녀 노드의 이름과 모듈을 출력합니다.\n",
        "for i in model.named_children():\n",
        "    print(i)"
      ],
      "execution_count": null,
      "outputs": [
        {
          "output_type": "stream",
          "text": [
            "cuda:0\n",
            "('feature', Sequential(\n",
            "  (0): Sequential(\n",
            "    (0): Conv2d(3, 64, kernel_size=(3, 3), stride=(1, 1), padding=(1, 1))\n",
            "    (1): BatchNorm2d(64, eps=1e-05, momentum=0.1, affine=True, track_running_stats=True)\n",
            "    (2): ReLU()\n",
            "    (3): Conv2d(64, 64, kernel_size=(3, 3), stride=(1, 1), padding=(1, 1))\n",
            "    (4): BatchNorm2d(64, eps=1e-05, momentum=0.1, affine=True, track_running_stats=True)\n",
            "    (5): ReLU()\n",
            "    (6): MaxPool2d(kernel_size=2, stride=2, padding=0, dilation=1, ceil_mode=False)\n",
            "  )\n",
            "  (1): Sequential(\n",
            "    (0): Conv2d(64, 128, kernel_size=(3, 3), stride=(1, 1), padding=(1, 1))\n",
            "    (1): BatchNorm2d(128, eps=1e-05, momentum=0.1, affine=True, track_running_stats=True)\n",
            "    (2): ReLU()\n",
            "    (3): Conv2d(128, 128, kernel_size=(3, 3), stride=(1, 1), padding=(1, 1))\n",
            "    (4): BatchNorm2d(128, eps=1e-05, momentum=0.1, affine=True, track_running_stats=True)\n",
            "    (5): ReLU()\n",
            "    (6): MaxPool2d(kernel_size=2, stride=2, padding=0, dilation=1, ceil_mode=False)\n",
            "  )\n",
            "  (2): Sequential(\n",
            "    (0): Conv2d(128, 256, kernel_size=(3, 3), stride=(1, 1), padding=(1, 1))\n",
            "    (1): BatchNorm2d(256, eps=1e-05, momentum=0.1, affine=True, track_running_stats=True)\n",
            "    (2): ReLU()\n",
            "    (3): Conv2d(256, 256, kernel_size=(3, 3), stride=(1, 1), padding=(1, 1))\n",
            "    (4): BatchNorm2d(256, eps=1e-05, momentum=0.1, affine=True, track_running_stats=True)\n",
            "    (5): ReLU()\n",
            "    (6): Conv2d(256, 256, kernel_size=(3, 3), stride=(1, 1), padding=(1, 1))\n",
            "    (7): BatchNorm2d(256, eps=1e-05, momentum=0.1, affine=True, track_running_stats=True)\n",
            "    (8): ReLU()\n",
            "    (9): Conv2d(256, 256, kernel_size=(3, 3), stride=(1, 1), padding=(1, 1))\n",
            "    (10): BatchNorm2d(256, eps=1e-05, momentum=0.1, affine=True, track_running_stats=True)\n",
            "    (11): ReLU()\n",
            "    (12): MaxPool2d(kernel_size=2, stride=2, padding=0, dilation=1, ceil_mode=False)\n",
            "  )\n",
            "  (3): Sequential(\n",
            "    (0): Conv2d(256, 512, kernel_size=(3, 3), stride=(1, 1), padding=(1, 1))\n",
            "    (1): BatchNorm2d(512, eps=1e-05, momentum=0.1, affine=True, track_running_stats=True)\n",
            "    (2): ReLU()\n",
            "    (3): Conv2d(512, 512, kernel_size=(3, 3), stride=(1, 1), padding=(1, 1))\n",
            "    (4): BatchNorm2d(512, eps=1e-05, momentum=0.1, affine=True, track_running_stats=True)\n",
            "    (5): ReLU()\n",
            "    (6): Conv2d(512, 512, kernel_size=(3, 3), stride=(1, 1), padding=(1, 1))\n",
            "    (7): BatchNorm2d(512, eps=1e-05, momentum=0.1, affine=True, track_running_stats=True)\n",
            "    (8): ReLU()\n",
            "    (9): Conv2d(512, 512, kernel_size=(3, 3), stride=(1, 1), padding=(1, 1))\n",
            "    (10): BatchNorm2d(512, eps=1e-05, momentum=0.1, affine=True, track_running_stats=True)\n",
            "    (11): ReLU()\n",
            "    (12): MaxPool2d(kernel_size=2, stride=2, padding=0, dilation=1, ceil_mode=False)\n",
            "  )\n",
            "  (4): Sequential(\n",
            "    (0): Conv2d(512, 512, kernel_size=(3, 3), stride=(1, 1), padding=(1, 1))\n",
            "    (1): BatchNorm2d(512, eps=1e-05, momentum=0.1, affine=True, track_running_stats=True)\n",
            "    (2): ReLU()\n",
            "    (3): Conv2d(512, 512, kernel_size=(3, 3), stride=(1, 1), padding=(1, 1))\n",
            "    (4): BatchNorm2d(512, eps=1e-05, momentum=0.1, affine=True, track_running_stats=True)\n",
            "    (5): ReLU()\n",
            "    (6): Conv2d(512, 512, kernel_size=(3, 3), stride=(1, 1), padding=(1, 1))\n",
            "    (7): BatchNorm2d(512, eps=1e-05, momentum=0.1, affine=True, track_running_stats=True)\n",
            "    (8): ReLU()\n",
            "    (9): Conv2d(512, 512, kernel_size=(3, 3), stride=(1, 1), padding=(1, 1))\n",
            "    (10): BatchNorm2d(512, eps=1e-05, momentum=0.1, affine=True, track_running_stats=True)\n",
            "    (11): ReLU()\n",
            "    (12): MaxPool2d(kernel_size=2, stride=2, padding=0, dilation=1, ceil_mode=False)\n",
            "  )\n",
            "))\n",
            "('fc_layer', Sequential(\n",
            "  (0): Linear(in_features=512, out_features=1000, bias=True)\n",
            "  (1): ReLU(inplace=True)\n",
            "  (2): Dropout(p=0.2, inplace=False)\n",
            "  (3): Linear(in_features=1000, out_features=500, bias=True)\n",
            "  (4): ReLU(inplace=True)\n",
            "  (5): Dropout(p=0.2, inplace=False)\n",
            "  (6): Linear(in_features=500, out_features=10, bias=True)\n",
            "))\n"
          ],
          "name": "stdout"
        }
      ]
    },
    {
      "cell_type": "code",
      "metadata": {
        "id": "2UrPA_icdZlZ"
      },
      "source": [
        "# Loss and optimizer\n",
        "criterion = nn.CrossEntropyLoss()\n",
        "optimizer = torch.optim.Adam(model.parameters(), lr=learning_rate)"
      ],
      "execution_count": null,
      "outputs": []
    },
    {
      "cell_type": "code",
      "metadata": {
        "colab": {
          "base_uri": "https://localhost:8080/"
        },
        "id": "EX5nXm6Qnfje",
        "outputId": "e0736974-c9c3-4735-bf6c-650cb5011283"
      },
      "source": [
        "# Train the model\n",
        "loss_arr = []\n",
        "total_step = len(train_loader)\n",
        "for epoch in range(num_epochs):\n",
        "    for i, (images, labels) in enumerate(train_loader):\n",
        "        images = images.to(device)   #이미지와 라벨도 cuda0으로 이동시키기 \n",
        "        labels = labels.to(device)\n",
        "        \n",
        "        # Forward pass\n",
        "        outputs = model(images)      \n",
        "        loss = criterion(outputs, labels)\n",
        "        \n",
        "        # Backward and optimize\n",
        "        optimizer.zero_grad()\n",
        "        loss.backward()\n",
        "        optimizer.step()\n",
        "        \n",
        "        if (i+1) % 100 == 0:\n",
        "            print ('Epoch [{}/{}], Step [{}/{}], Loss: {:.4f}' \n",
        "                   .format(epoch+1, num_epochs, i+1, total_step, loss.item()))"
      ],
      "execution_count": null,
      "outputs": [
        {
          "output_type": "stream",
          "text": [
            "Epoch [1/20], Step [100/500], Loss: 1.8575\n",
            "Epoch [1/20], Step [200/500], Loss: 1.7817\n",
            "Epoch [1/20], Step [300/500], Loss: 1.9405\n",
            "Epoch [1/20], Step [400/500], Loss: 1.9052\n",
            "Epoch [1/20], Step [500/500], Loss: 1.6079\n",
            "Epoch [2/20], Step [100/500], Loss: 1.5322\n",
            "Epoch [2/20], Step [200/500], Loss: 1.3688\n",
            "Epoch [2/20], Step [300/500], Loss: 1.5011\n",
            "Epoch [2/20], Step [400/500], Loss: 1.4026\n",
            "Epoch [2/20], Step [500/500], Loss: 1.3116\n",
            "Epoch [3/20], Step [100/500], Loss: 1.1464\n",
            "Epoch [3/20], Step [200/500], Loss: 1.2777\n",
            "Epoch [3/20], Step [300/500], Loss: 1.0294\n",
            "Epoch [3/20], Step [400/500], Loss: 0.9488\n",
            "Epoch [3/20], Step [500/500], Loss: 0.9870\n",
            "Epoch [4/20], Step [100/500], Loss: 1.0781\n",
            "Epoch [4/20], Step [200/500], Loss: 0.9563\n",
            "Epoch [4/20], Step [300/500], Loss: 0.9404\n",
            "Epoch [4/20], Step [400/500], Loss: 0.8917\n",
            "Epoch [4/20], Step [500/500], Loss: 0.8865\n",
            "Epoch [5/20], Step [100/500], Loss: 0.7489\n",
            "Epoch [5/20], Step [200/500], Loss: 0.8756\n",
            "Epoch [5/20], Step [300/500], Loss: 0.9153\n",
            "Epoch [5/20], Step [400/500], Loss: 0.8253\n",
            "Epoch [5/20], Step [500/500], Loss: 0.8026\n",
            "Epoch [6/20], Step [100/500], Loss: 0.7754\n",
            "Epoch [6/20], Step [200/500], Loss: 0.5623\n",
            "Epoch [6/20], Step [300/500], Loss: 0.6518\n",
            "Epoch [6/20], Step [400/500], Loss: 0.6652\n",
            "Epoch [6/20], Step [500/500], Loss: 0.8763\n",
            "Epoch [7/20], Step [100/500], Loss: 0.5138\n",
            "Epoch [7/20], Step [200/500], Loss: 0.4841\n",
            "Epoch [7/20], Step [300/500], Loss: 0.5029\n",
            "Epoch [7/20], Step [400/500], Loss: 0.4342\n",
            "Epoch [7/20], Step [500/500], Loss: 0.5821\n",
            "Epoch [8/20], Step [100/500], Loss: 0.3494\n",
            "Epoch [8/20], Step [200/500], Loss: 0.4389\n",
            "Epoch [8/20], Step [300/500], Loss: 0.6968\n",
            "Epoch [8/20], Step [400/500], Loss: 0.4526\n",
            "Epoch [8/20], Step [500/500], Loss: 0.5595\n",
            "Epoch [9/20], Step [100/500], Loss: 0.3859\n",
            "Epoch [9/20], Step [200/500], Loss: 0.4325\n",
            "Epoch [9/20], Step [300/500], Loss: 0.4074\n",
            "Epoch [9/20], Step [400/500], Loss: 0.4366\n",
            "Epoch [9/20], Step [500/500], Loss: 0.3728\n",
            "Epoch [10/20], Step [100/500], Loss: 0.3348\n",
            "Epoch [10/20], Step [200/500], Loss: 0.3409\n",
            "Epoch [10/20], Step [300/500], Loss: 0.3045\n",
            "Epoch [10/20], Step [400/500], Loss: 0.4417\n",
            "Epoch [10/20], Step [500/500], Loss: 0.4142\n",
            "Epoch [11/20], Step [100/500], Loss: 0.1967\n",
            "Epoch [11/20], Step [200/500], Loss: 0.4038\n",
            "Epoch [11/20], Step [300/500], Loss: 0.3834\n",
            "Epoch [11/20], Step [400/500], Loss: 0.4407\n",
            "Epoch [11/20], Step [500/500], Loss: 0.3644\n",
            "Epoch [12/20], Step [100/500], Loss: 0.3153\n",
            "Epoch [12/20], Step [200/500], Loss: 0.2330\n",
            "Epoch [12/20], Step [300/500], Loss: 0.3660\n",
            "Epoch [12/20], Step [400/500], Loss: 0.3343\n",
            "Epoch [12/20], Step [500/500], Loss: 0.2950\n",
            "Epoch [13/20], Step [100/500], Loss: 0.3311\n",
            "Epoch [13/20], Step [200/500], Loss: 0.0837\n",
            "Epoch [13/20], Step [300/500], Loss: 0.2818\n",
            "Epoch [13/20], Step [400/500], Loss: 0.2712\n",
            "Epoch [13/20], Step [500/500], Loss: 0.1605\n",
            "Epoch [14/20], Step [100/500], Loss: 0.3990\n",
            "Epoch [14/20], Step [200/500], Loss: 0.2029\n",
            "Epoch [14/20], Step [300/500], Loss: 0.2485\n",
            "Epoch [14/20], Step [400/500], Loss: 0.2811\n",
            "Epoch [14/20], Step [500/500], Loss: 0.3810\n",
            "Epoch [15/20], Step [100/500], Loss: 0.2258\n",
            "Epoch [15/20], Step [200/500], Loss: 0.1955\n",
            "Epoch [15/20], Step [300/500], Loss: 0.2791\n",
            "Epoch [15/20], Step [400/500], Loss: 0.1759\n",
            "Epoch [15/20], Step [500/500], Loss: 0.1851\n",
            "Epoch [16/20], Step [100/500], Loss: 0.1693\n",
            "Epoch [16/20], Step [200/500], Loss: 0.2232\n",
            "Epoch [16/20], Step [300/500], Loss: 0.2644\n",
            "Epoch [16/20], Step [400/500], Loss: 0.1280\n",
            "Epoch [16/20], Step [500/500], Loss: 0.0804\n",
            "Epoch [17/20], Step [100/500], Loss: 0.1852\n",
            "Epoch [17/20], Step [200/500], Loss: 0.1290\n",
            "Epoch [17/20], Step [300/500], Loss: 0.3076\n",
            "Epoch [17/20], Step [400/500], Loss: 0.1634\n",
            "Epoch [17/20], Step [500/500], Loss: 0.1418\n",
            "Epoch [18/20], Step [100/500], Loss: 0.2234\n",
            "Epoch [18/20], Step [200/500], Loss: 0.1788\n",
            "Epoch [18/20], Step [300/500], Loss: 0.2297\n",
            "Epoch [18/20], Step [400/500], Loss: 0.2190\n",
            "Epoch [18/20], Step [500/500], Loss: 0.1812\n",
            "Epoch [19/20], Step [100/500], Loss: 0.1594\n",
            "Epoch [19/20], Step [200/500], Loss: 0.1816\n",
            "Epoch [19/20], Step [300/500], Loss: 0.0538\n",
            "Epoch [19/20], Step [400/500], Loss: 0.1702\n",
            "Epoch [19/20], Step [500/500], Loss: 0.2153\n",
            "Epoch [20/20], Step [100/500], Loss: 0.1344\n",
            "Epoch [20/20], Step [200/500], Loss: 0.1880\n",
            "Epoch [20/20], Step [300/500], Loss: 0.1446\n",
            "Epoch [20/20], Step [400/500], Loss: 0.2034\n",
            "Epoch [20/20], Step [500/500], Loss: 0.2354\n"
          ],
          "name": "stdout"
        }
      ]
    },
    {
      "cell_type": "code",
      "metadata": {
        "colab": {
          "base_uri": "https://localhost:8080/"
        },
        "id": "AW09Nyshr2yG",
        "outputId": "9dc9fff8-0da4-4c38-b4f8-0cbf8be79876"
      },
      "source": [
        "correct = 0\n",
        "total = 0\n",
        "\n",
        "# 배치정규화나 드롭아웃은 학습할때와 테스트 할때 다르게 동작하기 때문에 모델을 evaluation 모드로 바꿔서 테스트해야합니다.\n",
        "model.eval()\n",
        "with torch.no_grad():\n",
        "  for image,label in test_loader:\n",
        "      x = image.to(device)\n",
        "      y_= label.to(device)\n",
        "\n",
        "      output = model.forward(x)\n",
        "      _,output_index = torch.max(output,1)\n",
        "\n",
        "      total += label.size(0)\n",
        "      correct += (output_index == y_).sum().float()\n",
        "\n",
        "  print(\"Accuracy of Test Data: {}\".format(100*correct/total))"
      ],
      "execution_count": null,
      "outputs": [
        {
          "output_type": "stream",
          "text": [
            "Accuracy of Test Data: 83.93000030517578\n"
          ],
          "name": "stdout"
        }
      ]
    }
  ]
}